{
 "cells": [
  {
   "cell_type": "markdown",
   "id": "f0e80f13",
   "metadata": {},
   "source": [
    "# 📊 Marketing Campaign Statistical Analysis"
   ]
  },
  {
   "cell_type": "code",
   "execution_count": null,
   "id": "190fd1d5",
   "metadata": {},
   "outputs": [],
   "source": [
    "import pandas as pd\n",
    "import numpy as np\n",
    "import matplotlib.pyplot as plt\n",
    "import seaborn as sns\n",
    "from scipy.stats import chi2_contingency, ttest_ind\n"
   ]
  },
  {
   "cell_type": "code",
   "execution_count": null,
   "id": "02bef517",
   "metadata": {},
   "outputs": [],
   "source": [
    "data = pd.DataFrame({\n",
    "    \"CustomerID\": range(1, 31),\n",
    "    \"Age\": np.random.randint(18, 55, 30),\n",
    "    \"Gender\": np.random.choice([\"Male\", \"Female\"], 30),\n",
    "    \"Campaign_Exposed\": np.random.choice([\"Yes\", \"No\"], 30, p=[0.5, 0.5]),\n",
    "    \"Purchase\": np.random.choice([\"Yes\", \"No\"], 30, p=[0.6, 0.4]),\n",
    "    \"Spending\": np.random.randint(100, 1000, 30)\n",
    "})\n",
    "# Save dataset for reproducibility\n",
    "data.to_csv(\"marketing_data.csv\", index=False)\n",
    "\n",
    "print(\"Sample Data:\")\n",
    "print(data.head())"
   ]
  },
  {
   "cell_type": "code",
   "execution_count": null,
   "id": "88ab059b",
   "metadata": {},
   "outputs": [],
   "source": [
    "\n",
    "sns.countplot(x=\"Campaign_Exposed\", hue=\"Purchase\", data=data)\n",
    "plt.title(\"Campaign Exposure vs Purchase\")\n",
    "plt.show()\n",
    "\n",
    "sns.boxplot(x=\"Campaign_Exposed\", y=\"Spending\", data=data)\n",
    "plt.title(\"Campaign Exposure vs Spending\")\n",
    "plt.show()\n"
   ]
  },
  {
   "cell_type": "code",
   "execution_count": null,
   "id": "514d4667",
   "metadata": {},
   "outputs": [],
   "source": [
    "\n",
    "# --- 4. Hypothesis Testing ---\n",
    "\n",
    "# 4.1 Chi-Square Test: Does campaign exposure affect purchase decision?\n",
    "contingency_table = pd.crosstab(data[\"Campaign_Exposed\"], data[\"Purchase\"])\n",
    "chi2, p, dof, expected = chi2_contingency(contingency_table)\n",
    "\n",
    "print(\"\\nChi-Square Test: Campaign vs Purchase\")\n",
    "print(\"Chi2:\", chi2, \"p-value:\", p)\n",
    "if p < 0.05:\n",
    "    print(\"✅ Significant: Campaign exposure impacts purchases\")\n",
    "else:\n",
    "    print(\"❌ Not Significant: Campaign exposure does not impact purchases\")\n"
   ]
  },
  {
   "cell_type": "code",
   "execution_count": null,
   "id": "e67b8164",
   "metadata": {},
   "outputs": [],
   "source": [
    "\n",
    "# 4.2 T-Test: Does campaign exposure affect spending amount?\n",
    "exposed = data[data[\"Campaign_Exposed\"] == \"Yes\"][\"Spending\"]\n",
    "not_exposed = data[data[\"Campaign_Exposed\"] == \"No\"][\"Spending\"]\n",
    "\n",
    "t_stat, p_val = ttest_ind(exposed, not_exposed)\n",
    "\n",
    "print(\"\\nT-Test: Spending between exposed vs non-exposed groups\")\n",
    "print(\"t-statistic:\", t_stat, \"p-value:\", p_val)\n",
    "if p_val < 0.05:\n",
    "    print(\"✅ Significant: Campaign exposure affects spending\")\n",
    "else:\n",
    "    print(\"❌ Not Significant: Campaign exposure does not affect spending\")\n"
   ]
  },
  {
   "cell_type": "code",
   "execution_count": null,
   "id": "58d754dd",
   "metadata": {},
   "outputs": [],
   "source": [
    "\n",
    "\n"
   ]
  }
 ],
 "metadata": {
  "language_info": {
   "name": "python"
  }
 },
 "nbformat": 4,
 "nbformat_minor": 5
}
